{
 "cells": [
  {
   "cell_type": "code",
   "execution_count": null,
   "id": "2572b2c3",
   "metadata": {},
   "outputs": [],
   "source": [
    "import random\n",
    "\n",
    "def juego_geografia():\n",
    "    preguntas = {\"¿Cuál es el río más largo del mundo?\": \"Amazonas\",\n",
    "        \"¿Cuál es la capital de Australia?\": \"Canberra\",\n",
    "        \"¿En qué continente está Egipto?\": \"Africa\",\n",
    "        \"¿Qué montaña separa Europa de Asia?\": \"Urales\",\n",
    "        \"¿Cuál es el país más grande del mundo?\": \"Rusia\",\n",
    "        \"¿Qué océano baña las costas de Chile?\": \"Pacifico\",\n",
    "        \"¿Cuál es la capital de Canadá?\": \"Ottawa\",\n",
    "        \"¿En qué ciudad está el pico más alto de la Península Ibérica?\": \"Granada\",\n",
    "        \"¿Qué país tiene forma de bota?\": \"Italia\",\n",
    "        \"¿Cuál es el desierto más grande del mundo?\": \"Sahara\"}\n",
    "    \n",
    "    preguntas_correctas = 0\n",
    "    intentos_fallidos = 0\n",
    "    max_intentos = 3\n",
    "    objetivo = 5\n",
    "    \n",
    "    print(\"¡Bienvenido al Juego de Geografía!\")\n",
    "    print(f\"Debes responder {objetivo} preguntas correctamente para ganar.\")\n",
    "    print(f\"Pero cuidado, ¡solo puedes fallar {max_intentos} veces!\")\n",
    "    \n",
    "   \n",
    "    lista_preguntas = list(preguntas.items())\n",
    "    random.shuffle(lista_preguntas)\n",
    "    \n",
    "   \n",
    "    for pregunta, respuesta_correcta in lista_preguntas:\n",
    "       \n",
    "        if preguntas_correctas >= objetivo:\n",
    "            print(\"¡Felicidades! ¡Has ganado el juego!\")\n",
    "            print(f\"Respondiste {preguntas_correctas} preguntas correctamente.\")\n",
    "            return\n",
    "            \n",
    "        if intentos_fallidos >= max_intentos:\n",
    "            print(\"¡Se te acabaron los intentos! Perdiste el juego.\")\n",
    "            print(f\"Conseguiste {preguntas_correctas} respuestas correctas.\")\n",
    "            return\n",
    "        \n",
    "        \n",
    "        print(f\"Pregunta: {pregunta}\")\n",
    "        respuesta_usuario = input(\"Tu respuesta: \").strip().lower()\n",
    "        \n",
    "        \n",
    "        if respuesta_usuario == respuesta_correcta.lower():\n",
    "            preguntas_correctas += 1\n",
    "            print(f\"¡Correcto! ✅ Llevas {preguntas_correctas} aciertos.\")\n",
    "        else:\n",
    "            intentos_fallidos += 1\n",
    "            print(f\"❌ Incorrecto. La respuesta correcta era: {respuesta_correcta}\")\n",
    "            print(f\"Te quedan {max_intentos - intentos_fallidos} intentos restantes.\")\n",
    "    \n",
    "    \n",
    "    print(\"\\n¡Se acabaron las preguntas!\")\n",
    "    if preguntas_correctas >= objetivo:\n",
    "        print(f\"¡Felicidades! Ganaste con {preguntas_correctas} aciertos.\")\n",
    "    else:\n",
    "        print(f\"No alcanzaste los {objetivo} aciertos. Obtuviste {preguntas_correctas}.\")\n",
    "\n",
    "\n",
    "juego_geografia()"
   ]
  },
  {
   "cell_type": "code",
   "execution_count": null,
   "id": "f348e777",
   "metadata": {},
   "outputs": [],
   "source": [
    "juego_geografia()"
   ]
  }
 ],
 "metadata": {
  "kernelspec": {
   "display_name": "base",
   "language": "python",
   "name": "python3"
  },
  "language_info": {
   "name": "python",
   "version": "3.12.7"
  }
 },
 "nbformat": 4,
 "nbformat_minor": 5
}
