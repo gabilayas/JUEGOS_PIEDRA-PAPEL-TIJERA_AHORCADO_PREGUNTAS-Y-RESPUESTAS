{
 "cells": [
  {
   "cell_type": "code",
   "execution_count": 13,
   "id": "ae07b50a",
   "metadata": {},
   "outputs": [],
   "source": [
    "import random\n",
    "\n",
    "def jugar_piedra():\n",
    "    jugador_nombre = input(\"Escribe tu nombre aquí: \").capitalize()\n",
    "    print(\"\\nBienvenido al juego\", jugador_nombre, \"\\n\")\n",
    "\n",
    "    elemento = ('Piedra', 'Papel', 'Tijera')\n",
    "\n",
    "    vida = 3\n",
    "    while vida != 6 and vida != 0:\n",
    "        jugador2 = random.choice(elemento)\n",
    "        jugador1 = input('Escoge tu elemento: Piedra, Papel o Tijera: ').capitalize()\n",
    "        print(\"\\nHas escogido:\", jugador1)\n",
    "\n",
    "        if jugador1 == 'Piedra':\n",
    "            if jugador2 == 'Tijera':\n",
    "                vida += 1\n",
    "                print('Has ganado un punto\\n')\n",
    "            elif jugador2 == 'Papel':\n",
    "                vida -= 1\n",
    "                print('Has perdido la ronda\\n')\n",
    "            else:\n",
    "                print('Has empatado\\n')\n",
    "\n",
    "        elif jugador1 == 'Papel':\n",
    "            if jugador2 == 'Piedra':\n",
    "                vida += 1\n",
    "                print('Has ganado un punto\\n')\n",
    "            elif jugador2 == 'Tijera':\n",
    "                vida -= 1\n",
    "                print('Has perdido la ronda\\n')\n",
    "            else:\n",
    "                print('Has empatado\\n')\n",
    "\n",
    "        elif jugador1 == 'Tijera':\n",
    "            if jugador2 == 'Papel':\n",
    "                vida += 1\n",
    "                print('Has ganado un punto\\n')\n",
    "            elif jugador2 == 'Piedra':\n",
    "                vida -= 1\n",
    "                print('Has perdido la ronda\\n')\n",
    "            else:\n",
    "                print('Has empatado\\n')\n",
    "        else:\n",
    "            print(\"La palabra introducida no es válida\\n\")\n",
    "\n",
    "        print(\"El ordenador ha escogido:\", jugador2)\n",
    "        print(\"Vidas actuales:\", vida, \"\\n\")\n",
    "\n",
    "    if vida == 6:\n",
    "        print(\"🎉 Te has pasado el juego 🎉\\n\")\n",
    "    elif vida == 0:\n",
    "        print(\"💀 Game over 💀\\n\")\n"
   ]
  },
  {
   "cell_type": "code",
   "execution_count": null,
   "id": "8f38af25",
   "metadata": {},
   "outputs": [],
   "source": [
    "jugar_piedra()"
   ]
  }
 ],
 "metadata": {
  "kernelspec": {
   "display_name": "base",
   "language": "python",
   "name": "python3"
  },
  "language_info": {
   "codemirror_mode": {
    "name": "ipython",
    "version": 3
   },
   "file_extension": ".py",
   "mimetype": "text/x-python",
   "name": "python",
   "nbconvert_exporter": "python",
   "pygments_lexer": "ipython3",
   "version": "3.12.7"
  }
 },
 "nbformat": 4,
 "nbformat_minor": 5
}
